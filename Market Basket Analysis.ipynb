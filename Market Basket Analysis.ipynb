{
 "cells": [
  {
   "cell_type": "markdown",
   "id": "24dc7061",
   "metadata": {},
   "source": [
    "# IMPORTING THE REQUIRED PACKAGES"
   ]
  },
  {
   "cell_type": "code",
   "execution_count": 1,
   "id": "bd4914e2",
   "metadata": {},
   "outputs": [],
   "source": [
    "import pandas as pd\n",
    "import numpy as np\n",
    "import matplotlib.pyplot as plt"
   ]
  },
  {
   "cell_type": "markdown",
   "id": "f6c6a70f",
   "metadata": {},
   "source": [
    "# IMPORTING THE DATASET"
   ]
  },
  {
   "cell_type": "code",
   "execution_count": 3,
   "id": "549c2d9d",
   "metadata": {},
   "outputs": [],
   "source": [
    "dataset1 = pd.read_csv('day1.csv')"
   ]
  },
  {
   "cell_type": "code",
   "execution_count": 8,
   "id": "805133f4",
   "metadata": {},
   "outputs": [
    {
     "name": "stdout",
     "output_type": "stream",
     "text": [
      "   Wine  Chips  Bread  Butter  Milk  Apple\n",
      "0  Wine    NaN  Bread  Butter  Milk    NaN\n",
      "1   NaN  Chips  Bread  Butter  Milk    NaN\n",
      "2  Wine  Chips    NaN     NaN   NaN  Apple\n",
      "3  Wine  Chips  Bread  Butter  Milk  Apple\n",
      "4  Wine  Chips    NaN     NaN  Milk    NaN\n",
      "(1048575, 6)\n"
     ]
    }
   ],
   "source": [
    "print(dataset1.head())\n",
    "print(dataset1.shape)"
   ]
  },
  {
   "cell_type": "code",
   "execution_count": 5,
   "id": "37d4b0ca",
   "metadata": {},
   "outputs": [
    {
     "name": "stdout",
     "output_type": "stream",
     "text": [
      "Collecting apyori\n",
      "  Downloading apyori-1.1.2.tar.gz (8.6 kB)\n",
      "Building wheels for collected packages: apyori\n",
      "  Building wheel for apyori (setup.py): started\n",
      "  Building wheel for apyori (setup.py): finished with status 'done'\n",
      "  Created wheel for apyori: filename=apyori-1.1.2-py3-none-any.whl size=5974 sha256=e13ce2d8a4200362ce97f6685b29f39321b4d10d58c540c6c4a5bc9a6a468c4a\n",
      "  Stored in directory: c:\\users\\best\\appdata\\local\\pip\\cache\\wheels\\32\\2a\\54\\10c595515f385f3726642b10c60bf788029e8f3a1323e3913a\n",
      "Successfully built apyori\n",
      "Installing collected packages: apyori\n",
      "Successfully installed apyori-1.1.2\n",
      "Note: you may need to restart the kernel to use updated packages.\n"
     ]
    }
   ],
   "source": [
    "pip install apyori"
   ]
  },
  {
   "cell_type": "code",
   "execution_count": 7,
   "id": "cfc27419",
   "metadata": {},
   "outputs": [],
   "source": [
    "from apyori import apriori"
   ]
  },
  {
   "cell_type": "markdown",
   "id": "c6213bd7",
   "metadata": {},
   "source": [
    "# CONVERTING THE PANDAS INTO THE LIST OF THE LISTS"
   ]
  },
  {
   "cell_type": "code",
   "execution_count": 10,
   "id": "aca02b9e",
   "metadata": {},
   "outputs": [],
   "source": [
    "records=[]\n",
    "for i in range(0,22):\n",
    "    records.append([dataset1.values[i,j] for j in range(0,6)])"
   ]
  },
  {
   "cell_type": "markdown",
   "id": "71e38483",
   "metadata": {},
   "source": [
    "# CONSTRUCTING THE APRIORI MODEL"
   ]
  },
  {
   "cell_type": "code",
   "execution_count": 14,
   "id": "8834b33d",
   "metadata": {},
   "outputs": [],
   "source": [
    "assosiation_rules=apriori(records,min_support=0.50,min_confidence=0.7,min_lift=1.7,min_length=2)\n"
   ]
  },
  {
   "cell_type": "markdown",
   "id": "c6c400c6",
   "metadata": {},
   "source": [
    "# FINDING THE NUMBER OF RULES"
   ]
  },
  {
   "cell_type": "code",
   "execution_count": 17,
   "id": "26caac56",
   "metadata": {},
   "outputs": [
    {
     "name": "stdout",
     "output_type": "stream",
     "text": [
      "<generator object apriori at 0x000002DD189A96D0>\n"
     ]
    }
   ],
   "source": [
    "print(assosiation_rules)"
   ]
  },
  {
   "cell_type": "code",
   "execution_count": null,
   "id": "34044cd3",
   "metadata": {},
   "outputs": [],
   "source": []
  }
 ],
 "metadata": {
  "kernelspec": {
   "display_name": "Python 3 (ipykernel)",
   "language": "python",
   "name": "python3"
  },
  "language_info": {
   "codemirror_mode": {
    "name": "ipython",
    "version": 3
   },
   "file_extension": ".py",
   "mimetype": "text/x-python",
   "name": "python",
   "nbconvert_exporter": "python",
   "pygments_lexer": "ipython3",
   "version": "3.9.7"
  }
 },
 "nbformat": 4,
 "nbformat_minor": 5
}
